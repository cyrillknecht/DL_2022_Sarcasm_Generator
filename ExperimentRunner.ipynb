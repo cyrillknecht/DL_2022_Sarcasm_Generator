{
 "cells": [
  {
   "cell_type": "code",
   "execution_count": null,
   "metadata": {
    "colab": {
     "base_uri": "https://localhost:8080/"
    },
    "executionInfo": {
     "elapsed": 2498,
     "status": "ok",
     "timestamp": 1672646765334,
     "user": {
      "displayName": "David Zehnder",
      "userId": "17302417618832216549"
     },
     "user_tz": -60
    },
    "id": "UAQmvSV-kRVT",
    "outputId": "d849433c-904c-4b33-c64c-f5dc70d48fe0",
    "pycharm": {
     "is_executing": true
    }
   },
   "outputs": [],
   "source": [
    "# Mount your Google Drive\n",
    "from google.colab import drive\n",
    "drive.mount('/content/drive')"
   ]
  },
  {
   "attachments": {},
   "cell_type": "markdown",
   "metadata": {},
   "source": [
    "# Installations"
   ]
  },
  {
   "cell_type": "code",
   "execution_count": null,
   "metadata": {
    "colab": {
     "base_uri": "https://localhost:8080/"
    },
    "executionInfo": {
     "elapsed": 3,
     "status": "ok",
     "timestamp": 1672646809538,
     "user": {
      "displayName": "David Zehnder",
      "userId": "17302417618832216549"
     },
     "user_tz": -60
    },
    "id": "a2_KN1WLrPDL",
    "outputId": "2771a57e-cfe0-49a7-8bd2-d4d37c1147e8",
    "pycharm": {
     "is_executing": true
    }
   },
   "outputs": [],
   "source": [
    "# Change the current path to where you saved the repository (don't forget to also upload the pretrained classifiers)\n",
    "%cd /content/drive/MyDrive/DL_2022_Sarcasm_Generator/"
   ]
  },
  {
   "cell_type": "code",
   "execution_count": null,
   "metadata": {
    "colab": {
     "base_uri": "https://localhost:8080/"
    },
    "executionInfo": {
     "elapsed": 6,
     "status": "ok",
     "timestamp": 1672645435403,
     "user": {
      "displayName": "David Zehnder",
      "userId": "17302417618832216549"
     },
     "user_tz": -60
    },
    "id": "d9SYMU0honiu",
    "outputId": "095ee689-3ecf-4de5-9c53-585c27b9befe",
    "pycharm": {
     "is_executing": true
    }
   },
   "outputs": [],
   "source": [
    "!cat requirements.txt"
   ]
  },
  {
   "cell_type": "code",
   "execution_count": null,
   "metadata": {
    "colab": {
     "base_uri": "https://localhost:8080/",
     "height": 1000
    },
    "executionInfo": {
     "elapsed": 286407,
     "status": "ok",
     "timestamp": 1672645727068,
     "user": {
      "displayName": "David Zehnder",
      "userId": "17302417618832216549"
     },
     "user_tz": -60
    },
    "id": "WLwzCA2vkOPv",
    "outputId": "ac50bdd0-f6e3-408e-97aa-c335e9515ca9",
    "pycharm": {
     "is_executing": true
    }
   },
   "outputs": [],
   "source": [
    "# Run this every time you want to run experiments on a new machine\n",
    "!pip install -r requirements.txt"
   ]
  },
  {
   "cell_type": "code",
   "execution_count": null,
   "metadata": {
    "colab": {
     "base_uri": "https://localhost:8080/"
    },
    "executionInfo": {
     "elapsed": 74919,
     "status": "ok",
     "timestamp": 1672645801977,
     "user": {
      "displayName": "David Zehnder",
      "userId": "17302417618832216549"
     },
     "user_tz": -60
    },
    "id": "TKlBS2Cgm9jQ",
    "outputId": "e3c50339-94e6-4f19-d81f-160b8be052c7",
    "pycharm": {
     "is_executing": true
    }
   },
   "outputs": [],
   "source": [
    "# Confirm uninstall before proceeding\n",
    "!pip uninstall torchvision"
   ]
  },
  {
   "cell_type": "code",
   "execution_count": null,
   "metadata": {
    "colab": {
     "base_uri": "https://localhost:8080/"
    },
    "executionInfo": {
     "elapsed": 2481,
     "status": "ok",
     "timestamp": 1672645804452,
     "user": {
      "displayName": "David Zehnder",
      "userId": "17302417618832216549"
     },
     "user_tz": -60
    },
    "id": "5ZDGKS4foYm2",
    "outputId": "ab38c6a3-9fef-40ef-82f0-db3c67c318a0",
    "pycharm": {
     "is_executing": true
    }
   },
   "outputs": [],
   "source": [
    "# Check that the PyTorch installation worked with this (should print \"1.13.1+cu117\" and \"True\")\n",
    "!python3 -c \"import torch; print(torch.__version__); print(torch.cuda.is_available())\""
   ]
  },
  {
   "cell_type": "code",
   "execution_count": null,
   "metadata": {
    "colab": {
     "base_uri": "https://localhost:8080/"
    },
    "executionInfo": {
     "elapsed": 4520,
     "status": "ok",
     "timestamp": 1672645808947,
     "user": {
      "displayName": "David Zehnder",
      "userId": "17302417618832216549"
     },
     "user_tz": -60
    },
    "id": "__qXCVk-pr0O",
    "outputId": "6887e03a-e1de-4a0f-95f8-4fca0a9c3493",
    "pycharm": {
     "is_executing": true
    }
   },
   "outputs": [],
   "source": [
    "# Check that the Tensorflow installation worked with this (should print a list that contains a \"PhysicalDevice(...)\")\n",
    "!python3 -c \"import tensorflow as tf; print(tf.__version__); print(tf.config.list_physical_devices('GPU'))\""
   ]
  },
  {
   "attachments": {},
   "cell_type": "markdown",
   "metadata": {
    "id": "w3SG9-MemBAk"
   },
   "source": [
    "# Running experiments\n",
    "Run specific experiments + judge to reproduce our results."
   ]
  },
  {
   "attachments": {},
   "cell_type": "markdown",
   "metadata": {},
   "source": [
    "Classic model without data augmentation:"
   ]
  },
  {
   "cell_type": "code",
   "execution_count": null,
   "metadata": {},
   "outputs": [],
   "source": [
    "!python3 src/classic_generator.py"
   ]
  },
  {
   "attachments": {},
   "cell_type": "markdown",
   "metadata": {},
   "source": [
    "Self-augmented model:\n",
    "\n",
    "Number of real data samples per training iteration given in first argument.\n",
    "\n",
    "Number of self-augmented data samples per training iteration given in second argument.\n",
    "\n",
    "Output file path given in third argument."
   ]
  },
  {
   "cell_type": "code",
   "execution_count": null,
   "metadata": {},
   "outputs": [],
   "source": [
    "# !python3 src/self_augmentation_generator.py 12 28 generated/500_self_augmented_results_30_10.csv # 25%\n",
    "# !python3 src/self_augmentation_generator.py 12 28 generated/500_self_augmented_results_20_20.csv # 50%\n",
    "# !python3 src/self_augmentation_generator.py 12 28 generated/500_self_augmented_results_16_24.csv # 60%\n",
    "# !python3 src/self_augmentation_generator.py 12 28 generated/500_self_augmented_results_14_26.csv # 65%\n",
    "# !python3 src/self_augmentation_generator.py 12 28 generated/500_self_augmented_results_12_28.csv # 70%\n",
    "!python3 src/self_augmentation_generator.py 10 30 generated/500_self_augmented_results_10_30.csv # 75%\n",
    "# !python3 src/self_augmentation_generator.py 0 40 generated/500_self_augmented_results_0_40.csv # 100%"
   ]
  },
  {
   "attachments": {},
   "cell_type": "markdown",
   "metadata": {},
   "source": [
    "EDA augmented model:\n",
    "\n",
    "Number of real data samples per training iteration given in first argument.\n",
    "\n",
    "Number of EDA augmented data samples per training iteration given in second argument.\n",
    "\n",
    "Output file path given in third argument."
   ]
  },
  {
   "cell_type": "code",
   "execution_count": null,
   "metadata": {
    "colab": {
     "base_uri": "https://localhost:8080/"
    },
    "id": "rPqoAhAjcHNG",
    "outputId": "98d71e16-cdb3-4485-f47d-3f1ad1c3c734"
   },
   "outputs": [],
   "source": [
    "# !python3 src/eda_generator.py 30 10 generated/500_eda_augmented_results_30_10.csv # 25%\n",
    "# !python3 src/eda_generator.py 20 20 generated/500_eda_augmented_results_20_20.csv # 50%\n",
    "!python3 src/eda_generator.py 10 30 generated/500_eda_augmented_results_10_30.csv # 75%\n",
    "# !python3 src/eda_generator.py 0 40 generated/500_eda_augmented_results_0_40.csv # 100%"
   ]
  },
  {
   "cell_type": "code",
   "execution_count": null,
   "metadata": {
    "colab": {
     "base_uri": "https://localhost:8080/"
    },
    "executionInfo": {
     "elapsed": 20603,
     "status": "ok",
     "timestamp": 1672650178634,
     "user": {
      "displayName": "David Zehnder",
      "userId": "17302417618832216549"
     },
     "user_tz": -60
    },
    "id": "zK9K5JB1cD5j",
    "outputId": "cda8121e-3706-409e-e387-8dbd3c6c5ac7",
    "pycharm": {
     "is_executing": true
    }
   },
   "outputs": [],
   "source": [
    "# Once you are done, run the judge on the generated dataset to obtain the produced sarcasm percentage per model. Check the python implementation for further information on changing evaluated files.\n",
    "!python3 src/judge.py"
   ]
  }
 ],
 "metadata": {
  "accelerator": "GPU",
  "colab": {
   "machine_shape": "hm",
   "provenance": []
  },
  "gpuClass": "standard",
  "kernelspec": {
   "display_name": "rtai",
   "language": "python",
   "name": "python3"
  },
  "language_info": {
   "name": "python",
   "version": "3.7.13 (default, Oct 19 2022, 10:19:43) [MSC v.1916 64 bit (AMD64)]"
  },
  "vscode": {
   "interpreter": {
    "hash": "bb032062a354eea263a3697862d30a89ab9ebb28ff1fcbee17770632fade0992"
   }
  }
 },
 "nbformat": 4,
 "nbformat_minor": 0
}
